{
 "cells": [
  {
   "cell_type": "markdown",
   "id": "7f787b69",
   "metadata": {},
   "source": [
    "# Exploring New (To Me) Mediapipe Workflow\n",
    "\n",
    "Instead of prior workflow of doing pose estimation, calculations, and display all in one loop, trying a new workflow of doing pose estimations in one loop, then doing calculations, then doing a final loop for displaying and saving the edited video."
   ]
  },
  {
   "cell_type": "markdown",
   "id": "c9264ffe",
   "metadata": {},
   "source": [
    "### Imports"
   ]
  },
  {
   "cell_type": "code",
   "execution_count": 1,
   "id": "a6a4862e",
   "metadata": {},
   "outputs": [],
   "source": [
    "# imports\n",
    "import cv2\n",
    "import mediapipe as mp\n",
    "import numpy as np\n",
    "import math\n",
    "\n",
    "mp_drawing = mp.solutions.drawing_utils\n",
    "mp_pose = mp.solutions.pose\n"
   ]
  },
  {
   "cell_type": "markdown",
   "id": "06bd704c",
   "metadata": {},
   "source": [
    "### Define Functions "
   ]
  },
  {
   "cell_type": "code",
   "execution_count": 2,
   "id": "ce2d7b29",
   "metadata": {},
   "outputs": [],
   "source": [
    "### center of mass functions - eventually we would make these a class\n",
    "def calculateCOM(proximal, distal, com_proximal_multiplier):\n",
    "    segment_length = distal-proximal\n",
    "    segment_COM = proximal + (com_proximal_multiplier*segment_length)\n",
    "    return segment_COM\n",
    "\n",
    "def calculate_foot_COM(heel, ankle, foot_index):\n",
    "    COM_foot = (heel + ankle + foot_index)/3\n",
    "    return COM_foot\n",
    "\n",
    "def calculate_hand_COM(wrist, index, pinky, com_proximal_multiplier):\n",
    "    knuckle_width = pinky - index\n",
    "    Third_metacarple = index + (knuckle_width/3)\n",
    "    Palm_segment = Third_metacarple - wrist\n",
    "    COM_hand = wrist + (com_proximal_multiplier*Palm_segment)\n",
    "    return COM_hand\n",
    "\n",
    "def calculate_total_COM(COM_Segments, dimension):\n",
    "    '''Calculate total body COM based on COM of all segments, separately for x and y. \n",
    "    Dimension should be 0 for x and 1 for y.'''\n",
    "\n",
    "    return sum([COM_Segments[segment][2]*COM_Segments[segment][dimension] for segment in COM_Segments])\n",
    "\n",
    "def COM_finite_difference(current, previous, fps):\n",
    "    return (current - previous) * fps #we multiply change by fps to find change over time because fps is inverse of change in time"
   ]
  },
  {
   "cell_type": "markdown",
   "id": "6c3d2413",
   "metadata": {},
   "source": [
    "# Do Pose Estimation and Save Results"
   ]
  },
  {
   "cell_type": "markdown",
   "id": "9033f6a3",
   "metadata": {},
   "source": [
    "### Setup Capture"
   ]
  },
  {
   "cell_type": "code",
   "execution_count": 3,
   "id": "06b8ba0e",
   "metadata": {},
   "outputs": [],
   "source": [
    "#set file path to the video location\n",
    "path = \"/Users/Philip/Documents/GitHub/Learning/Videos/delaney_almighty.mp4\"\n",
    "\n",
    "#capture the video using opencv\n",
    "cap = cv2.VideoCapture(path)"
   ]
  },
  {
   "cell_type": "markdown",
   "id": "ca162c1a",
   "metadata": {},
   "source": [
    "### Get capture properties\n",
    "\n",
    "We'll use these later when it comes time to display the COM and also to write the video"
   ]
  },
  {
   "cell_type": "code",
   "execution_count": 4,
   "id": "e2a19877",
   "metadata": {},
   "outputs": [],
   "source": [
    "#setup properties for video writer\n",
    "width = int(cap.get(cv2.CAP_PROP_FRAME_WIDTH))\n",
    "height = int(cap.get(cv2.CAP_PROP_FRAME_HEIGHT))\n",
    "fps = cap.get(cv2.CAP_PROP_FPS)"
   ]
  },
  {
   "cell_type": "markdown",
   "id": "7f5b8bbf",
   "metadata": {},
   "source": [
    "Create array to store pose estimation results, and run the pose estimation loop"
   ]
  },
  {
   "cell_type": "code",
   "execution_count": 5,
   "id": "e99ae49a",
   "metadata": {},
   "outputs": [],
   "source": [
    "results_array = []"
   ]
  },
  {
   "cell_type": "code",
   "execution_count": 6,
   "id": "352dedfc",
   "metadata": {},
   "outputs": [
    {
     "name": "stderr",
     "output_type": "stream",
     "text": [
      "INFO: Created TensorFlow Lite XNNPACK delegate for CPU.\n"
     ]
    }
   ],
   "source": [
    "with mp_pose.Pose(model_complexity = 2, min_detection_confidence=0.5, min_tracking_confidence=0.5) as pose:\n",
    "    for frame_idx in range(int(cap.get(cv2.CAP_PROP_FRAME_COUNT))): #loop through feed\n",
    "        ret, frame = cap.read() #getting an image from feed, 'frame' is our video feed variable\n",
    "        \n",
    "        image = cv2.cvtColor(frame, cv2.COLOR_BGR2RGB) #recolor image into the RGB format (for mediapipe)\n",
    "        image.flags.writeable = False\n",
    "        \n",
    "        #make pose detection in MediaPipe\n",
    "        results = pose.process(image)\n",
    "       \n",
    "        results_array.append(results)\n",
    "        \n",
    "        image.flags.writeable = True #setting this to true allows the drawing of the landmarks onto the image\n",
    "        image = cv2.cvtColor(image, cv2.COLOR_RGB2BGR) #recolor image back to BGR (for opencv)\n",
    "        \n",
    "        cv2.imshow('COM Display (q to quit)', image)\n",
    "\n",
    "        if cv2.waitKey(10) & 0xFF == ord('q'): #break out of feed by typing 'q' key\n",
    "            break\n",
    "\n",
    "        \n",
    "cv2.destroyAllWindows()\n",
    "cv2.waitKey(1) #helps close windows for certain mac users\n",
    "#release camera and close all windows\n",
    "cap.release()"
   ]
  },
  {
   "cell_type": "markdown",
   "id": "037d8a65",
   "metadata": {},
   "source": [
    "Now that our loop has run, we can investigate what we get out. It looks like we have an array of 403 objects from the mediapipe SolutionOutputs class."
   ]
  },
  {
   "cell_type": "code",
   "execution_count": 14,
   "id": "b19f58ac",
   "metadata": {
    "scrolled": true
   },
   "outputs": [
    {
     "name": "stdout",
     "output_type": "stream",
     "text": [
      "403\n",
      "<class 'mediapipe.python.solution_base.SolutionOutputs'>\n"
     ]
    }
   ],
   "source": [
    "print(len(results_array))\n",
    "print(results_array[0])"
   ]
  },
  {
   "cell_type": "markdown",
   "id": "14dad960",
   "metadata": {},
   "source": [
    "From these solutionsOutput objects, we can extract landmarks just like we did before in the for loop"
   ]
  },
  {
   "cell_type": "code",
   "execution_count": 9,
   "id": "7d772bd2",
   "metadata": {},
   "outputs": [
    {
     "name": "stdout",
     "output_type": "stream",
     "text": [
      "[x: 0.624949038028717\n",
      "y: 0.2391638308763504\n",
      "z: 0.016450844705104828\n",
      "visibility: 0.999797523021698\n",
      ", x: 0.6227338314056396\n",
      "y: 0.22962228953838348\n",
      "z: 0.006337265949696302\n",
      "visibility: 0.9997367262840271\n",
      ", x: 0.6198492646217346\n",
      "y: 0.2286323755979538\n",
      "z: 0.005942911375313997\n",
      "visibility: 0.9997760653495789\n",
      ", x: 0.6168407797813416\n",
      "y: 0.22782078385353088\n",
      "z: 0.006051038857549429\n",
      "visibility: 0.9997811913490295\n",
      ", x: 0.6285052299499512\n",
      "y: 0.23213335871696472\n",
      "z: -0.03414587676525116\n",
      "visibility: 0.9998446702957153\n",
      ", x: 0.6297038197517395\n",
      "y: 0.23283985257148743\n",
      "z: -0.03464222699403763\n",
      "visibility: 0.9999086856842041\n",
      ", x: 0.6309459805488586\n",
      "y: 0.23350703716278076\n",
      "z: -0.03486674278974533\n",
      "visibility: 0.9999065399169922\n",
      ", x: 0.5995835661888123\n",
      "y: 0.2294577658176422\n",
      "z: -0.0023981642443686724\n",
      "visibility: 0.9998695850372314\n",
      ", x: 0.6239383220672607\n",
      "y: 0.23662881553173065\n",
      "z: -0.1874236911535263\n",
      "visibility: 0.9998613595962524\n",
      ", x: 0.6136713027954102\n",
      "y: 0.24545760452747345\n",
      "z: 0.02821359969675541\n",
      "visibility: 0.9996100068092346\n",
      ", x: 0.6185413002967834\n",
      "y: 0.2473628968000412\n",
      "z: -0.02886578068137169\n",
      "visibility: 0.9996954202651978\n",
      ", x: 0.5441662073135376\n",
      "y: 0.24587830901145935\n",
      "z: 0.10177847743034363\n",
      "visibility: 0.9999778270721436\n",
      ", x: 0.6129366159439087\n",
      "y: 0.28096094727516174\n",
      "z: -0.32626694440841675\n",
      "visibility: 0.9999741315841675\n",
      ", x: 0.5930603742599487\n",
      "y: 0.18988898396492004\n",
      "z: 0.16614660620689392\n",
      "visibility: 0.9138081669807434\n",
      ", x: 0.7278876304626465\n",
      "y: 0.2964368760585785\n",
      "z: -0.45346561074256897\n",
      "visibility: 0.9933522939682007\n",
      ", x: 0.637825608253479\n",
      "y: 0.14012941718101501\n",
      "z: 0.0856127142906189\n",
      "visibility: 0.9780105948448181\n",
      ", x: 0.8419061303138733\n",
      "y: 0.28335079550743103\n",
      "z: -0.5047881603240967\n",
      "visibility: 0.9926447868347168\n",
      ", x: 0.6365339756011963\n",
      "y: 0.1238325834274292\n",
      "z: 0.07487407326698303\n",
      "visibility: 0.9759303331375122\n",
      ", x: 0.8714683651924133\n",
      "y: 0.27848756313323975\n",
      "z: -0.5870994329452515\n",
      "visibility: 0.9912751913070679\n",
      ", x: 0.6479474306106567\n",
      "y: 0.12289657443761826\n",
      "z: 0.03733926638960838\n",
      "visibility: 0.9751825332641602\n",
      ", x: 0.870241105556488\n",
      "y: 0.27091628313064575\n",
      "z: -0.5525856018066406\n",
      "visibility: 0.9900314807891846\n",
      ", x: 0.6481831669807434\n",
      "y: 0.12878000736236572\n",
      "z: 0.06972566992044449\n",
      "visibility: 0.9626876711845398\n",
      ", x: 0.8604609966278076\n",
      "y: 0.27272364497184753\n",
      "z: -0.4969436526298523\n",
      "visibility: 0.9782634377479553\n",
      ", x: 0.45867741107940674\n",
      "y: 0.3868885338306427\n",
      "z: 0.15981075167655945\n",
      "visibility: 0.9999896287918091\n",
      ", x: 0.5005891919136047\n",
      "y: 0.39725685119628906\n",
      "z: -0.15996046364307404\n",
      "visibility: 0.9999929666519165\n",
      ", x: 0.49958929419517517\n",
      "y: 0.4844134449958801\n",
      "z: 0.4199388325214386\n",
      "visibility: 0.8050416707992554\n",
      ", x: 0.5108611583709717\n",
      "y: 0.4993979334831238\n",
      "z: -0.17669764161109924\n",
      "visibility: 0.9990038275718689\n",
      ", x: 0.5020039081573486\n",
      "y: 0.5757034420967102\n",
      "z: 0.6492287516593933\n",
      "visibility: 0.9545079469680786\n",
      ", x: 0.46719491481781006\n",
      "y: 0.5917651653289795\n",
      "z: -0.1635292023420334\n",
      "visibility: 0.9988759160041809\n",
      ", x: 0.48839831352233887\n",
      "y: 0.5911791920661926\n",
      "z: 0.6654871702194214\n",
      "visibility: 0.963922381401062\n",
      ", x: 0.43822717666625977\n",
      "y: 0.6034960150718689\n",
      "z: -0.16192784905433655\n",
      "visibility: 0.9962837100028992\n",
      ", x: 0.5433773994445801\n",
      "y: 0.6042139530181885\n",
      "z: 0.590651273727417\n",
      "visibility: 0.9556263089179993\n",
      ", x: 0.5184247493743896\n",
      "y: 0.6270121932029724\n",
      "z: -0.28119489550590515\n",
      "visibility: 0.9962708950042725\n",
      "]\n"
     ]
    }
   ],
   "source": [
    "landmarks = results_array[0].pose_landmarks.landmark\n",
    "print(landmarks)"
   ]
  },
  {
   "cell_type": "markdown",
   "id": "215a10a2",
   "metadata": {},
   "source": [
    "Now let's try getting hand COM out, which should look like all of our prior code from the COM script, just without the display step"
   ]
  },
  {
   "cell_type": "markdown",
   "id": "f58c474f",
   "metadata": {},
   "source": [
    "# Get COM Data"
   ]
  },
  {
   "cell_type": "code",
   "execution_count": 17,
   "id": "07ceee02",
   "metadata": {},
   "outputs": [
    {
     "name": "stdout",
     "output_type": "stream",
     "text": [
      "{'L_hand': [x: 0.637825608253479\n",
      "y: 0.14012941718101501\n",
      "z: 0.0856127142906189\n",
      "visibility: 0.9780105948448181\n",
      ", x: 0.6479474306106567\n",
      "y: 0.12289657443761826\n",
      "z: 0.03733926638960838\n",
      "visibility: 0.9751825332641602\n",
      ", x: 0.6365339756011963\n",
      "y: 0.1238325834274292\n",
      "z: 0.07487407326698303\n",
      "visibility: 0.9759303331375122\n",
      ", 0.7474, 0.6425471861918768, 0.12748278155426185], 'R_hand': [x: 0.8419061303138733\n",
      "y: 0.28335079550743103\n",
      "z: -0.5047881603240967\n",
      "visibility: 0.9926447868347168\n",
      ", x: 0.870241105556488\n",
      "y: 0.27091628313064575\n",
      "z: -0.5525856018066406\n",
      "visibility: 0.9900314807891846\n",
      ", x: 0.8714683651924133\n",
      "y: 0.27848756313323975\n",
      "z: -0.5870994329452515\n",
      "visibility: 0.9912751913070679\n",
      ", 0.7474, 0.8633894420941671, 0.275943499181668]}\n"
     ]
    }
   ],
   "source": [
    "# COM of Hands, creating third metacarple point by taking 1/3 of the distance of the segment between index and pinky landmarks\n",
    "# then adding that distance to the index. Palm segment will be from wrist joint to 3rd metacarple joint.\n",
    "# dictionary values arranged in [wrist, index, pinky, com_proximal_multiplier, com_x, com_y] in that order. \n",
    "Hands = {\n",
    "    'L_hand' : [landmarks[15], landmarks[19], landmarks[17], 0.7474, 0, 0],\n",
    "    'R_hand' : [landmarks[16],landmarks[20], landmarks[18], 0.7474, 0, 0],\n",
    "}\n",
    "          \n",
    "for key in Hands:\n",
    "    #Knuckle_width is defined as the segment from the distal ends of the second to fifth metacarples (index to pinky landmarks)\n",
    "    wrist_x = Hands[key][0].x\n",
    "    wrist_y = Hands[key][0].y\n",
    "    index_x = Hands[key][1].x\n",
    "    index_y = Hands[key][1].y\n",
    "    pinky_x = Hands[key][2].x\n",
    "    pinky_y = Hands[key][2].y\n",
    "    com_proximal_multiplier = Hands[key][3] \n",
    "\n",
    "    COM_hand_x = calculate_hand_COM(wrist_x, index_x, pinky_x, com_proximal_multiplier)\n",
    "    COM_hand_y = calculate_hand_COM(wrist_y, index_y, pinky_y, com_proximal_multiplier)\n",
    "\n",
    "    #update Hands dictionary with COM positions\n",
    "    Hands[key][4] = COM_hand_x\n",
    "    Hands[key][5] = COM_hand_y\n",
    "    \n",
    "print(Hands)"
   ]
  },
  {
   "cell_type": "markdown",
   "id": "e59b1a84",
   "metadata": {},
   "source": [
    "There we go! We have our left and right hand COM stored nicely in a dictionary, just like before. We should probably move this, and the other COM calculations, into functions, since we're going to be calling them 400+ times for our short video."
   ]
  },
  {
   "cell_type": "code",
   "execution_count": 18,
   "id": "aaf98159",
   "metadata": {},
   "outputs": [],
   "source": [
    "def handCOM(landmarks):\n",
    "    # COM of Hands, creating third metacarple point by taking 1/3 of the distance of the segment between index and pinky landmarks\n",
    "    # then adding that distance to the index. Palm segment will be from wrist joint to 3rd metacarple joint.\n",
    "    # dictionary values arranged in [wrist, index, pinky, com_proximal_multiplier, com_x, com_y] in that order. \n",
    "    Hands = {\n",
    "        'L_hand' : [landmarks[15], landmarks[19], landmarks[17], 0.7474, 0, 0],\n",
    "        'R_hand' : [landmarks[16],landmarks[20], landmarks[18], 0.7474, 0, 0],\n",
    "    }\n",
    "\n",
    "    for key in Hands:\n",
    "        #Knuckle_width is defined as the segment from the distal ends of the second to fifth metacarples (index to pinky landmarks)\n",
    "        wrist_x = Hands[key][0].x\n",
    "        wrist_y = Hands[key][0].y\n",
    "        index_x = Hands[key][1].x\n",
    "        index_y = Hands[key][1].y\n",
    "        pinky_x = Hands[key][2].x\n",
    "        pinky_y = Hands[key][2].y\n",
    "        com_proximal_multiplier = Hands[key][3] \n",
    "\n",
    "        COM_hand_x = calculate_hand_COM(wrist_x, index_x, pinky_x, com_proximal_multiplier)\n",
    "        COM_hand_y = calculate_hand_COM(wrist_y, index_y, pinky_y, com_proximal_multiplier)\n",
    "\n",
    "        #update Hands dictionary with COM positions\n",
    "        Hands[key][4] = COM_hand_x\n",
    "        Hands[key][5] = COM_hand_y\n",
    "    return Hands\n",
    "    "
   ]
  },
  {
   "cell_type": "code",
   "execution_count": 26,
   "id": "177e29a3",
   "metadata": {},
   "outputs": [],
   "source": [
    "Hands = handCOM(landmarks)"
   ]
  },
  {
   "cell_type": "markdown",
   "id": "9df72a0e",
   "metadata": {},
   "source": [
    "Great, our hand function worked smoothly, let's add the others in too"
   ]
  },
  {
   "cell_type": "code",
   "execution_count": 20,
   "id": "86f4f054",
   "metadata": {},
   "outputs": [],
   "source": [
    "def feetCOM(landmarks):\n",
    "    #COM of FEET, using the centroid of the triangle formed from heel-ankle-\"foot-index\" landmarks, arranged in that order in the dictionary values.\n",
    "    Feet = {\n",
    "        'L_foot' : [landmarks[29], landmarks[27], landmarks[31], 0, 0],\n",
    "        'R_foot' : [landmarks[30], landmarks[28], landmarks[32], 0, 0]\n",
    "    }\n",
    "\n",
    "    for key in Feet:\n",
    "        #arguments are ordered heel, ankle, foot index\n",
    "        COM_foot_x = calculate_foot_COM(Feet[key][0].x, Feet[key][1].x, Feet[key][2].x)\n",
    "        COM_foot_y = calculate_foot_COM(Feet[key][0].y, Feet[key][1].y, Feet[key][2].y)\n",
    "\n",
    "        #plot feet COM\n",
    "        cv2.circle(image, center=tuple(np.multiply((COM_foot_x, COM_foot_y), [width, height]).astype(int)), radius=1, color=(255,0,0), thickness=3)\n",
    "\n",
    "        #update Feet dictionary with COM positions\n",
    "        Feet[key][3] = COM_foot_x\n",
    "        Feet[key][4] = COM_foot_y\n",
    "        \n",
    "    return Feet"
   ]
  },
  {
   "cell_type": "code",
   "execution_count": 27,
   "id": "5bdd7054",
   "metadata": {},
   "outputs": [],
   "source": [
    "Feet = feetCOM(landmarks)"
   ]
  },
  {
   "cell_type": "code",
   "execution_count": 22,
   "id": "f8c6cfb6",
   "metadata": {},
   "outputs": [],
   "source": [
    "def trunkCOM(landmarks):\n",
    "    Trunk = []\n",
    "    \n",
    "    #Trunk segment calculations from MidShoulder to Mid Hip. \n",
    "    MidShoulder_x = (landmarks[12].x + landmarks[11].x)/2\n",
    "    MidShoulder_y = (landmarks[12].y + landmarks[11].y)/2\n",
    "    MidHip_x = (landmarks[24].x + landmarks[23].x)/2\n",
    "    MidHip_y = (landmarks[24].y + landmarks[23].y)/2\n",
    "    TrunkCOM_x = calculateCOM(MidShoulder_x, MidHip_x, 0.3782)\n",
    "    TrunkCOM_y = calculateCOM(MidShoulder_y, MidHip_y, 0.3782)\n",
    "    \n",
    "    Trunk.append(TrunkCOM_x)\n",
    "    Trunk.append(TrunkCOM_y)\n",
    "    \n",
    "    return Trunk"
   ]
  },
  {
   "cell_type": "code",
   "execution_count": 28,
   "id": "8d4da72d",
   "metadata": {},
   "outputs": [],
   "source": [
    "Trunk = trunkCOM(landmarks)"
   ]
  },
  {
   "cell_type": "code",
   "execution_count": 24,
   "id": "584de630",
   "metadata": {},
   "outputs": [],
   "source": [
    " def body_segmentsCOM(landmarks):\n",
    "    #Body Segment Dictionary format: key = body segment, % value = [proximal joint landmark values, distal joint landmark values, COM as a % of segment length]\n",
    "    Body_Segments = {\n",
    "        'L_UpperArm' : [landmarks[11] , landmarks[13] , 0.5754, 0, 0],\n",
    "        'R_UpperArm' : [landmarks[12] , landmarks[14] , 0.5754, 0, 0], \n",
    "        'L_Forearm' : [landmarks[13] , landmarks[15] , 0.4559, 0, 0],\n",
    "        'R_Forearm' : [landmarks[14] , landmarks[16] , 0.4559, 0, 0], \n",
    "        'L_Thigh' : [landmarks[23], landmarks[25], 0.3612, 0, 0], \n",
    "        'R_Thigh' : [landmarks[24], landmarks[26], 0.3612, 0, 0],\n",
    "        'L_Shin' : [landmarks[25], landmarks[27], 0.4416, 0, 0],\n",
    "        'R_Shin' : [landmarks[26], landmarks[28], 0.4416, 0, 0],\n",
    "        'Head' : [landmarks[7], landmarks[8], 0.5, 0, 0]\n",
    "    }\n",
    "\n",
    "\n",
    "    for key in Body_Segments:\n",
    "        #print(key, 'proximal x ->', Body_Segments[key][0].x) \n",
    "        x1 = Body_Segments[key][0].x #proximal joint x value\n",
    "        y1 = Body_Segments[key][0].y\n",
    "        x2 = Body_Segments[key][1].x\n",
    "        y2 = Body_Segments[key][1].y\n",
    "        com_proximal_multiplier = Body_Segments[key][2]\n",
    "\n",
    "        COM_x = calculateCOM(x1, x2, com_proximal_multiplier)\n",
    "        COM_y = calculateCOM(y1, y2, com_proximal_multiplier)\n",
    "        \n",
    "        Body_Segments[key][3] = COM_x\n",
    "        Body_Segments[key][4] = COM_y\n",
    "        \n",
    "    return Body_Segments\n"
   ]
  },
  {
   "cell_type": "code",
   "execution_count": 35,
   "id": "316884bc",
   "metadata": {},
   "outputs": [],
   "source": [
    "Body_Segments = body_segmentsCOM(landmarks)"
   ]
  },
  {
   "cell_type": "code",
   "execution_count": 30,
   "id": "958b49ed",
   "metadata": {},
   "outputs": [],
   "source": [
    "def define_COM_segments(Body_Segments, Trunk, Feet, Hands):\n",
    "    COM_Segments = {\n",
    "                'Head' : [ Body_Segments['Head'][3], Body_Segments['Head'][4], 0.0668],\n",
    "                'Trunk' : [ Trunk[0], Trunk[1], 0.4257 ],\n",
    "                'Left_Upper_Arm' : [ Body_Segments['L_UpperArm'][3], Body_Segments['L_UpperArm'][4], 0.0255],\n",
    "                'Right_Upper_Arm' : [ Body_Segments['R_UpperArm'][3], Body_Segments['R_UpperArm'][4], 0.0255],\n",
    "                'Left_Forearm' : [ Body_Segments['L_Forearm'][3], Body_Segments['L_Forearm'][4], 0.0138],\n",
    "                'Right_Forearm' : [ Body_Segments['R_Forearm'][3], Body_Segments['R_Forearm'][4], 0.0138],\n",
    "                'Left_Hand' : [Hands['L_hand'][4], Hands['L_hand'][5], 0.0056],\n",
    "                'Right_Hand' : [Hands['R_hand'][4], Hands['R_hand'][5], 0.0056],\n",
    "                'Left_Thigh' : [Body_Segments['L_Thigh'][3], Body_Segments['L_Thigh'][4], 0.1478],\n",
    "                'Right_Thigh' : [Body_Segments['R_Thigh'][3], Body_Segments['R_Thigh'][4], 0.1478],\n",
    "                'Left_Shin' : [Body_Segments['L_Shin'][3], Body_Segments['L_Shin'][4], 0.0481],\n",
    "                'Right_Shin' : [Body_Segments['R_Shin'][3], Body_Segments['R_Shin'][4], 0.0481],\n",
    "                'Left_Foot' : [Feet['L_foot'][3], Feet['L_foot'][4], 0.0129], \n",
    "                'Right_Foot' : [Feet['R_foot'][3], Feet['R_foot'][4], 0.0129], \n",
    "            }\n",
    "    return COM_Segments"
   ]
  },
  {
   "cell_type": "code",
   "execution_count": 37,
   "id": "cefaf688",
   "metadata": {},
   "outputs": [
    {
     "name": "stdout",
     "output_type": "stream",
     "text": [
      "{'Head': [0.6117609441280365, 0.23304329067468643, 0.0668], 'Trunk': [0.5411405823767186, 0.3120762170881033, 0.4257], 'Left_Upper_Arm': [0.5722999109745026, 0.21366205137968064, 0.0255], 'Right_Upper_Arm': [0.6790794296979904, 0.28986579669713974, 0.0255], 'Left_Forearm': [0.6134688444375992, 0.16720359746813773, 0.0138], 'Right_Forearm': [0.7798686645448207, 0.2904709319353104, 0.0138], 'Left_Hand': [0.6425471861918768, 0.12748278155426185, 0.0056], 'Right_Hand': [0.8633894420941671, 0.275943499181668, 0.0056], 'Left_Thigh': [0.4734547832608223, 0.4221145317435265, 0.1478], 'Right_Thigh': [0.5042994261980057, 0.43415021011829374, 0.1478], 'Left_Shin': [0.5006555877208709, 0.5247271077156067, 0.0481], 'Right_Shin': [0.4915781452178955, 0.5401873030662536, 0.0481], 'Left_Foot': [0.5112598737080892, 0.5903655290603638, 0.0129], 'Right_Foot': [0.4746156136194865, 0.6074244578679403, 0.0129]}\n"
     ]
    }
   ],
   "source": [
    "COM_Segments = define_COM_segments(Body_Segments, Trunk, Feet, Hands)\n",
    "print(COM_Segments)"
   ]
  },
  {
   "cell_type": "code",
   "execution_count": 38,
   "id": "999586b9",
   "metadata": {},
   "outputs": [],
   "source": [
    "def get_total_COM(COM_Segments):\n",
    "    COM_total_x = calculate_total_COM(COM_Segments, 0) #0 points to x dimension\n",
    "    COM_total_y = calculate_total_COM(COM_Segments, 1) #1 points to y dimension\n",
    "    \n",
    "    return [COM_total_x, COM_total_y]"
   ]
  },
  {
   "cell_type": "code",
   "execution_count": 39,
   "id": "8ea66240",
   "metadata": {},
   "outputs": [
    {
     "data": {
      "text/plain": [
       "[0.5357569614139249, 0.363062996072482]"
      ]
     },
     "execution_count": 39,
     "metadata": {},
     "output_type": "execute_result"
    }
   ],
   "source": [
    "total_COM = get_total_COM(COM_Segments)\n",
    "total_COM"
   ]
  },
  {
   "cell_type": "code",
   "execution_count": 43,
   "id": "70591fb2",
   "metadata": {},
   "outputs": [],
   "source": [
    "def update_COM_Segments(COM_Segments, total_COM):\n",
    "    COM_Segments['Total'] = total_COM"
   ]
  },
  {
   "cell_type": "code",
   "execution_count": 45,
   "id": "9d93fc9c",
   "metadata": {},
   "outputs": [
    {
     "name": "stdout",
     "output_type": "stream",
     "text": [
      "{'Head': [0.6117609441280365, 0.23304329067468643, 0.0668], 'Trunk': [0.5411405823767186, 0.3120762170881033, 0.4257], 'Left_Upper_Arm': [0.5722999109745026, 0.21366205137968064, 0.0255], 'Right_Upper_Arm': [0.6790794296979904, 0.28986579669713974, 0.0255], 'Left_Forearm': [0.6134688444375992, 0.16720359746813773, 0.0138], 'Right_Forearm': [0.7798686645448207, 0.2904709319353104, 0.0138], 'Left_Hand': [0.6425471861918768, 0.12748278155426185, 0.0056], 'Right_Hand': [0.8633894420941671, 0.275943499181668, 0.0056], 'Left_Thigh': [0.4734547832608223, 0.4221145317435265, 0.1478], 'Right_Thigh': [0.5042994261980057, 0.43415021011829374, 0.1478], 'Left_Shin': [0.5006555877208709, 0.5247271077156067, 0.0481], 'Right_Shin': [0.4915781452178955, 0.5401873030662536, 0.0481], 'Left_Foot': [0.5112598737080892, 0.5903655290603638, 0.0129], 'Right_Foot': [0.4746156136194865, 0.6074244578679403, 0.0129], 'Total': [0.5357569614139249, 0.363062996072482]}\n"
     ]
    }
   ],
   "source": [
    "update_COM_Segments(COM_Segments, total_COM)\n",
    "print(COM_Segments)"
   ]
  },
  {
   "cell_type": "markdown",
   "id": "d3e263ef",
   "metadata": {},
   "source": [
    "Great! We're getting our total COM out just by running a bunch of functions, and we've added it to our dictionary so all of our COM data is in one place. Now let's make a function that does all of the above, so we can iterate through our video frames and get a list of completed COM dictionaries out. "
   ]
  },
  {
   "cell_type": "code",
   "execution_count": 46,
   "id": "632378bc",
   "metadata": {},
   "outputs": [],
   "source": [
    "def get_COM_dict(landmarks):\n",
    "    Hands = handCOM(landmarks)\n",
    "    Feet = feetCOM(landmarks)\n",
    "    Trunk = trunkCOM(landmarks)\n",
    "    Body_Segments = body_segmentsCOM(landmarks)\n",
    "    COM_Segments = define_COM_segments(Body_Segments, Trunk, Feet, Hands)\n",
    "    total_COM = get_total_COM(COM_Segments)\n",
    "    update_COM_Segments(COM_Segments, total_COM)\n",
    "    return COM_Segments"
   ]
  },
  {
   "cell_type": "markdown",
   "id": "bbbb7cf3",
   "metadata": {},
   "source": [
    "And now that we have a function, we can iterate through all of our results to get the COM data for the whole video"
   ]
  },
  {
   "cell_type": "code",
   "execution_count": 103,
   "id": "6c38174f",
   "metadata": {},
   "outputs": [
    {
     "name": "stdout",
     "output_type": "stream",
     "text": [
      "{'Head': [0.603276789188385, 0.4252503365278244, 0.0668], 'Trunk': [0.5505917766451836, 0.5005828175127506, 0.4257], 'Left_Upper_Arm': [0.5649352683305741, 0.4886035503566265, 0.0255], 'Right_Upper_Arm': [0.5873992778897286, 0.4100889108121395, 0.0255], 'Left_Forearm': [0.5927355060696602, 0.5246823102474213, 0.0138], 'Right_Forearm': [0.633192343968153, 0.3651664590835571, 0.0138], 'Left_Hand': [0.6404222670356432, 0.5451857108275096, 0.0056], 'Right_Hand': [0.6679719805796941, 0.32760016909639045, 0.0056], 'Left_Thigh': [0.5642293467521667, 0.6191390529155731, 0.1478], 'Right_Thigh': [0.5628450702905655, 0.6140347683668137, 0.1478], 'Left_Shin': [0.609688469696045, 0.7150676864624024, 0.0481], 'Right_Shin': [0.6145293535232544, 0.7127073949813842, 0.0481], 'Left_Foot': [0.6129888494809469, 0.7698694070180258, 0.0129], 'Right_Foot': [0.6246869564056396, 0.77744060754776, 0.0129], 'Total': [0.5697476459131252, 0.5524883709902628]}\n"
     ]
    }
   ],
   "source": [
    "whole_video_COM = []\n",
    "for result in results_array:\n",
    "    try:\n",
    "        COM_dict = get_COM_dict(result.pose_landmarks.landmark)\n",
    "        whole_video_COM.append(COM_dict)\n",
    "    except:\n",
    "        #if pose isn't detected, we fill out dictionary with NotANumber values\n",
    "        nan_dict = {'Head': [math.nan, math.nan, math.nan],\n",
    "         'Trunk': [math.nan, math.nan, math.nan],\n",
    "         'Left_Upper_Arm': [math.nan, math.nan, math.nan],\n",
    "         'Right_Upper_Arm': [math.nan, math.nan, math.nan],\n",
    "         'Left_Forearm': [math.nan, math.nan, math.nan],\n",
    "         'Right_Forearm': [math.nan, math.nan, math.nan],\n",
    "         'Left_Hand': [math.nan, math.nan, math.nan],\n",
    "         'Right_Hand': [math.nan, math.nan, math.nan],\n",
    "         'Left_Thigh': [math.nan, math.nan, math.nan],\n",
    "         'Right_Thigh': [math.nan, math.nan, math.nan],\n",
    "         'Left_Shin': [math.nan, math.nan, math.nan],\n",
    "         'Right_Shin': [math.nan, math.nan, math.nan],\n",
    "         'Left_Foot': [math.nan, math.nan, math.nan],\n",
    "         'Right_Foot': [math.nan, math.nan, math.nan],\n",
    "         'Total': [math.nan, math.nan]}\n",
    "        whole_video_COM.append(nan_dict)\n",
    "    \n",
    "print(whole_video_COM[46])"
   ]
  },
  {
   "cell_type": "code",
   "execution_count": 108,
   "id": "2ccfcc42",
   "metadata": {},
   "outputs": [
    {
     "data": {
      "text/plain": [
       "float"
      ]
     },
     "execution_count": 108,
     "metadata": {},
     "output_type": "execute_result"
    }
   ],
   "source": [
    "type(whole_video_COM[10]['Total'][0])"
   ]
  },
  {
   "cell_type": "markdown",
   "id": "48210c77",
   "metadata": {},
   "source": [
    "Now we have a block of code that gets all of our COM data from our stored pose estimation results, and can handle errors when the pose estimation couldn't find anything. We'll have to continue to handle those exceptions as we move on to plotting our data, though"
   ]
  },
  {
   "cell_type": "markdown",
   "id": "89f9de91",
   "metadata": {},
   "source": [
    "Before plotting, let's add all of our functions to our function list to easily port it into a script. Eventually, this function list will end up as a class."
   ]
  },
  {
   "cell_type": "markdown",
   "id": "31d3e3b0",
   "metadata": {},
   "source": [
    "## Function List"
   ]
  },
  {
   "cell_type": "code",
   "execution_count": 2,
   "id": "2d3e0fa1",
   "metadata": {},
   "outputs": [],
   "source": [
    "### center of mass functions - eventually we would make these a class\n",
    "def calculateCOM(proximal, distal, com_proximal_multiplier):\n",
    "    segment_length = distal-proximal\n",
    "    segment_COM = proximal + (com_proximal_multiplier*segment_length)\n",
    "    return segment_COM\n",
    "\n",
    "def calculate_foot_COM(heel, ankle, foot_index):\n",
    "    COM_foot = (heel + ankle + foot_index)/3\n",
    "    return COM_foot\n",
    "\n",
    "def calculate_hand_COM(wrist, index, pinky, com_proximal_multiplier):\n",
    "    knuckle_width = pinky - index\n",
    "    Third_metacarple = index + (knuckle_width/3)\n",
    "    Palm_segment = Third_metacarple - wrist\n",
    "    COM_hand = wrist + (com_proximal_multiplier*Palm_segment)\n",
    "    return COM_hand\n",
    "\n",
    "def calculate_total_COM(COM_Segments, dimension):\n",
    "    '''Calculate total body COM based on COM of all segments, separately for x and y. \n",
    "    Dimension should be 0 for x and 1 for y.'''\n",
    "\n",
    "    return sum([COM_Segments[segment][2]*COM_Segments[segment][dimension] for segment in COM_Segments])\n",
    "\n",
    "def handCOM(landmarks):\n",
    "    # COM of Hands, creating third metacarple point by taking 1/3 of the distance of the segment between index and pinky landmarks\n",
    "    # then adding that distance to the index. Palm segment will be from wrist joint to 3rd metacarple joint.\n",
    "    # dictionary values arranged in [wrist, index, pinky, com_proximal_multiplier, com_x, com_y] in that order. \n",
    "    Hands = {\n",
    "        'L_hand' : [landmarks[15], landmarks[19], landmarks[17], 0.7474, 0, 0],\n",
    "        'R_hand' : [landmarks[16],landmarks[20], landmarks[18], 0.7474, 0, 0],\n",
    "    }\n",
    "\n",
    "    for key in Hands:\n",
    "        #Knuckle_width is defined as the segment from the distal ends of the second to fifth metacarples (index to pinky landmarks)\n",
    "        wrist_x = Hands[key][0].x\n",
    "        wrist_y = Hands[key][0].y\n",
    "        index_x = Hands[key][1].x\n",
    "        index_y = Hands[key][1].y\n",
    "        pinky_x = Hands[key][2].x\n",
    "        pinky_y = Hands[key][2].y\n",
    "        com_proximal_multiplier = Hands[key][3] \n",
    "\n",
    "        COM_hand_x = calculate_hand_COM(wrist_x, index_x, pinky_x, com_proximal_multiplier)\n",
    "        COM_hand_y = calculate_hand_COM(wrist_y, index_y, pinky_y, com_proximal_multiplier)\n",
    "\n",
    "        #update Hands dictionary with COM positions\n",
    "        Hands[key][4] = COM_hand_x\n",
    "        Hands[key][5] = COM_hand_y\n",
    "    return Hands\n",
    "\n",
    "def feetCOM(landmarks):\n",
    "    #COM of FEET, using the centroid of the triangle formed from heel-ankle-\"foot-index\" landmarks, arranged in that order in the dictionary values.\n",
    "    Feet = {\n",
    "        'L_foot' : [landmarks[29], landmarks[27], landmarks[31], 0, 0],\n",
    "        'R_foot' : [landmarks[30], landmarks[28], landmarks[32], 0, 0]\n",
    "    }\n",
    "\n",
    "    for key in Feet:\n",
    "        #arguments are ordered heel, ankle, foot index\n",
    "        COM_foot_x = calculate_foot_COM(Feet[key][0].x, Feet[key][1].x, Feet[key][2].x)\n",
    "        COM_foot_y = calculate_foot_COM(Feet[key][0].y, Feet[key][1].y, Feet[key][2].y)\n",
    "\n",
    "        #plot feet COM\n",
    "        cv2.circle(image, center=tuple(np.multiply((COM_foot_x, COM_foot_y), [width, height]).astype(int)), radius=1, color=(255,0,0), thickness=3)\n",
    "\n",
    "        #update Feet dictionary with COM positions\n",
    "        Feet[key][3] = COM_foot_x\n",
    "        Feet[key][4] = COM_foot_y\n",
    "        \n",
    "    return Feet\n",
    "\n",
    "def trunkCOM(landmarks):\n",
    "    Trunk = []\n",
    "    \n",
    "    #Trunk segment calculations from MidShoulder to Mid Hip. \n",
    "    MidShoulder_x = (landmarks[12].x + landmarks[11].x)/2\n",
    "    MidShoulder_y = (landmarks[12].y + landmarks[11].y)/2\n",
    "    MidHip_x = (landmarks[24].x + landmarks[23].x)/2\n",
    "    MidHip_y = (landmarks[24].y + landmarks[23].y)/2\n",
    "    TrunkCOM_x = calculateCOM(MidShoulder_x, MidHip_x, 0.3782)\n",
    "    TrunkCOM_y = calculateCOM(MidShoulder_y, MidHip_y, 0.3782)\n",
    "    \n",
    "    Trunk.append(TrunkCOM_x)\n",
    "    Trunk.append(TrunkCOM_y)\n",
    "    \n",
    "    return Trunk\n",
    "\n",
    "def body_segmentsCOM(landmarks):\n",
    "    #Body Segment Dictionary format: key = body segment, % value = [proximal joint landmark values, distal joint landmark values, COM as a % of segment length]\n",
    "    Body_Segments = {\n",
    "        'L_UpperArm' : [landmarks[11] , landmarks[13] , 0.5754, 0, 0],\n",
    "        'R_UpperArm' : [landmarks[12] , landmarks[14] , 0.5754, 0, 0], \n",
    "        'L_Forearm' : [landmarks[13] , landmarks[15] , 0.4559, 0, 0],\n",
    "        'R_Forearm' : [landmarks[14] , landmarks[16] , 0.4559, 0, 0], \n",
    "        'L_Thigh' : [landmarks[23], landmarks[25], 0.3612, 0, 0], \n",
    "        'R_Thigh' : [landmarks[24], landmarks[26], 0.3612, 0, 0],\n",
    "        'L_Shin' : [landmarks[25], landmarks[27], 0.4416, 0, 0],\n",
    "        'R_Shin' : [landmarks[26], landmarks[28], 0.4416, 0, 0],\n",
    "        'Head' : [landmarks[7], landmarks[8], 0.5, 0, 0]\n",
    "    }\n",
    "\n",
    "\n",
    "    for key in Body_Segments:\n",
    "        #print(key, 'proximal x ->', Body_Segments[key][0].x) \n",
    "        x1 = Body_Segments[key][0].x #proximal joint x value\n",
    "        y1 = Body_Segments[key][0].y\n",
    "        x2 = Body_Segments[key][1].x\n",
    "        y2 = Body_Segments[key][1].y\n",
    "        com_proximal_multiplier = Body_Segments[key][2]\n",
    "\n",
    "        COM_x = calculateCOM(x1, x2, com_proximal_multiplier)\n",
    "        COM_y = calculateCOM(y1, y2, com_proximal_multiplier)\n",
    "        \n",
    "        Body_Segments[key][3] = COM_x\n",
    "        Body_Segments[key][4] = COM_y\n",
    "        \n",
    "    return Body_Segments\n",
    "\n",
    "def define_COM_segments(Body_Segments, Trunk, Feet, Hands):\n",
    "    COM_Segments = {\n",
    "                'Head' : [ Body_Segments['Head'][3], Body_Segments['Head'][4], 0.0668],\n",
    "                'Trunk' : [ Trunk[0], Trunk[1], 0.4257 ],\n",
    "                'Left_Upper_Arm' : [ Body_Segments['L_UpperArm'][3], Body_Segments['L_UpperArm'][4], 0.0255],\n",
    "                'Right_Upper_Arm' : [ Body_Segments['R_UpperArm'][3], Body_Segments['R_UpperArm'][4], 0.0255],\n",
    "                'Left_Forearm' : [ Body_Segments['L_Forearm'][3], Body_Segments['L_Forearm'][4], 0.0138],\n",
    "                'Right_Forearm' : [ Body_Segments['R_Forearm'][3], Body_Segments['R_Forearm'][4], 0.0138],\n",
    "                'Left_Hand' : [Hands['L_hand'][4], Hands['L_hand'][5], 0.0056],\n",
    "                'Right_Hand' : [Hands['R_hand'][4], Hands['R_hand'][5], 0.0056],\n",
    "                'Left_Thigh' : [Body_Segments['L_Thigh'][3], Body_Segments['L_Thigh'][4], 0.1478],\n",
    "                'Right_Thigh' : [Body_Segments['R_Thigh'][3], Body_Segments['R_Thigh'][4], 0.1478],\n",
    "                'Left_Shin' : [Body_Segments['L_Shin'][3], Body_Segments['L_Shin'][4], 0.0481],\n",
    "                'Right_Shin' : [Body_Segments['R_Shin'][3], Body_Segments['R_Shin'][4], 0.0481],\n",
    "                'Left_Foot' : [Feet['L_foot'][3], Feet['L_foot'][4], 0.0129], \n",
    "                'Right_Foot' : [Feet['R_foot'][3], Feet['R_foot'][4], 0.0129], \n",
    "            }\n",
    "    return COM_Segments\n",
    "\n",
    "def get_total_COM(COM_Segments):\n",
    "    COM_total_x = calculate_total_COM(COM_Segments, 0) #0 points to x dimension\n",
    "    COM_total_y = calculate_total_COM(COM_Segments, 1) #1 points to y dimension\n",
    "    \n",
    "    return [COM_total_x, COM_total_y]\n",
    "\n",
    "def update_COM_Segments(COM_Segments, total_COM):\n",
    "    COM_Segments['Total'] = total_COM\n",
    "    \n",
    "def get_COM_dict(landmarks):\n",
    "    Hands = handCOM(landmarks)\n",
    "    Feet = feetCOM(landmarks)\n",
    "    Trunk = trunkCOM(landmarks)\n",
    "    Body_Segments = body_segmentsCOM(landmarks)\n",
    "    COM_Segments = define_COM_segments(Body_Segments, Trunk, Feet, Hands)\n",
    "    total_COM = get_total_COM(COM_Segments)\n",
    "    update_COM_Segments(COM_Segments, total_COM)\n",
    "    return COM_Segments\n"
   ]
  },
  {
   "cell_type": "markdown",
   "id": "f88d0ca0",
   "metadata": {},
   "source": [
    "Now that we have all of our COM data, let's try plotting it!"
   ]
  },
  {
   "cell_type": "markdown",
   "id": "6fda9cee",
   "metadata": {},
   "source": [
    "# Plotting COM Data\n",
    "\n",
    "We'll need to iterate through our video frames again, while iterating through our COM data, in order to plot everything in order.\n"
   ]
  },
  {
   "cell_type": "code",
   "execution_count": 96,
   "id": "d8db6bf7",
   "metadata": {},
   "outputs": [],
   "source": [
    "#reset capture the video using opencv\n",
    "cap = cv2.VideoCapture(path)"
   ]
  },
  {
   "cell_type": "code",
   "execution_count": 91,
   "id": "4f8b5366",
   "metadata": {},
   "outputs": [],
   "source": [
    "#setup properties for video writer\n",
    "width = int(cap.get(cv2.CAP_PROP_FRAME_WIDTH))\n",
    "height = int(cap.get(cv2.CAP_PROP_FRAME_HEIGHT))\n",
    "fps = cap.get(cv2.CAP_PROP_FPS)\n",
    "vid_length = cap.get(cv2.CAP_PROP_FRAME_COUNT)"
   ]
  },
  {
   "cell_type": "code",
   "execution_count": 97,
   "id": "053af380",
   "metadata": {},
   "outputs": [],
   "source": [
    "for frame_idx in range(int(vid_length)): #loop through feed\n",
    "        ret, frame = cap.read() #getting an image from feed, 'frame' is our video feed variable\n",
    "        \n",
    "        #display image - comment out to just save video\n",
    "        cv2.imshow('COM Display (q to quit)', image)\n",
    "\n",
    "        if cv2.waitKey(10) & 0xFF == ord('q'): #break out of feed by typing 'q' key\n",
    "            break\n",
    "\n",
    "        \n",
    "\n",
    "#release camera and close all windows\n",
    "cap.release()"
   ]
  },
  {
   "cell_type": "code",
   "execution_count": null,
   "id": "2c04dc5c",
   "metadata": {},
   "outputs": [],
   "source": []
  }
 ],
 "metadata": {
  "kernelspec": {
   "display_name": "Python 3 (ipykernel)",
   "language": "python",
   "name": "python3"
  },
  "language_info": {
   "codemirror_mode": {
    "name": "ipython",
    "version": 3
   },
   "file_extension": ".py",
   "mimetype": "text/x-python",
   "name": "python",
   "nbconvert_exporter": "python",
   "pygments_lexer": "ipython3",
   "version": "3.9.7"
  }
 },
 "nbformat": 4,
 "nbformat_minor": 5
}
