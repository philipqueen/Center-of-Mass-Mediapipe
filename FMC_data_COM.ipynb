{
 "cells": [
  {
   "cell_type": "code",
   "execution_count": 1,
   "metadata": {},
   "outputs": [],
   "source": [
    "import cv2\n",
    "import mediapipe as mp\n",
    "import numpy as np\n",
    "import math\n",
    "import pickle\n",
    "\n",
    "mp_drawing = mp.solutions.drawing_utils\n",
    "mp_pose = mp.solutions.pose"
   ]
  },
  {
   "cell_type": "code",
   "execution_count": 13,
   "metadata": {},
   "outputs": [],
   "source": [
    "#set file path to the video location\n",
    "path = \"/Users/Philip/Documents/Humon Research Lab/fmc_COM/philip_session2_04_25_22/DataArrays/mediaPipeData_2d.npy\""
   ]
  },
  {
   "cell_type": "code",
   "execution_count": 14,
   "metadata": {},
   "outputs": [],
   "source": [
    "mp_array = np.load(path)"
   ]
  },
  {
   "cell_type": "code",
   "execution_count": 21,
   "metadata": {},
   "outputs": [
    {
     "data": {
      "text/plain": [
       "3"
      ]
     },
     "execution_count": 21,
     "metadata": {},
     "output_type": "execute_result"
    }
   ],
   "source": [
    "len(mp_array)"
   ]
  },
  {
   "cell_type": "markdown",
   "metadata": {},
   "source": [
    "appears to be one array for each camera"
   ]
  },
  {
   "cell_type": "code",
   "execution_count": 22,
   "metadata": {},
   "outputs": [
    {
     "name": "stdout",
     "output_type": "stream",
     "text": [
      "4305 4305 4305\n"
     ]
    }
   ],
   "source": [
    "print(len(mp_array[0]),len(mp_array[1]),len(mp_array[2]))"
   ]
  },
  {
   "cell_type": "markdown",
   "metadata": {},
   "source": [
    "they're all the same length, which is encouraging! "
   ]
  },
  {
   "cell_type": "code",
   "execution_count": 24,
   "metadata": {},
   "outputs": [
    {
     "name": "stdout",
     "output_type": "stream",
     "text": [
      "543 <class 'numpy.ndarray'>\n"
     ]
    }
   ],
   "source": [
    "print(len(mp_array[0][0]), type(mp_array[0][0]))"
   ]
  },
  {
   "cell_type": "markdown",
   "metadata": {},
   "source": [
    "I'm assuming in each camera is a numpy array for each frame, containing all of the holistic face, hands, and body points (explaining why there's so many points)\n",
    "\n",
    "There should be: \n",
    "- 33 body points\n",
    "- 468 face points\n",
    "- 42 hand points\n",
    "\n",
    "We only care about the 33 body points, because those are the ones used by the center of mass script"
   ]
  },
  {
   "cell_type": "code",
   "execution_count": 26,
   "metadata": {},
   "outputs": [
    {
     "name": "stdout",
     "output_type": "stream",
     "text": [
      "3 <class 'numpy.ndarray'>\n",
      "[3.86563396e+02 1.32725276e+03 9.98229086e-01]\n"
     ]
    }
   ],
   "source": [
    "print(len(mp_array[0][0][0]), type(mp_array[0][0][0]))\n",
    "print(mp_array[0][0][0])"
   ]
  },
  {
   "cell_type": "markdown",
   "metadata": {},
   "source": [
    "These are the x point, y point, and confidence value of the first camera's first frame view of the nose (mediapipe landmark 0)"
   ]
  },
  {
   "cell_type": "code",
   "execution_count": 27,
   "metadata": {},
   "outputs": [
    {
     "name": "stdout",
     "output_type": "stream",
     "text": [
      "386.5633964538574\n"
     ]
    }
   ],
   "source": [
    "print(mp_array[0][0][0][0])"
   ]
  },
  {
   "cell_type": "markdown",
   "metadata": {},
   "source": [
    "The final structure is like this: mediaPipeData_nCams_nFrames_nImgPts_XYC "
   ]
  },
  {
   "cell_type": "code",
   "execution_count": 29,
   "metadata": {},
   "outputs": [],
   "source": [
    "landmarks = mp_array[1][213]"
   ]
  },
  {
   "cell_type": "code",
   "execution_count": 30,
   "metadata": {},
   "outputs": [
    {
     "name": "stdout",
     "output_type": "stream",
     "text": [
      "[1.45913246e+03 1.24446224e+03 1.05107531e-01]\n"
     ]
    }
   ],
   "source": [
    "print(landmarks[15])"
   ]
  },
  {
   "cell_type": "code",
   "execution_count": 32,
   "metadata": {},
   "outputs": [
    {
     "name": "stdout",
     "output_type": "stream",
     "text": [
      "[9.89537531e-05 2.66731448e-04 1.05107531e-01]\n"
     ]
    }
   ],
   "source": [
    "width, height = 3840, 2160\n",
    "\n",
    "for landmark in landmarks:\n",
    "    landmark[0] /= width\n",
    "    landmark[1] /= height\n",
    "\n",
    "print(landmarks[15])"
   ]
  }
 ],
 "metadata": {
  "interpreter": {
   "hash": "f64286d507031abed4552d23fdfd7816fd535c10d292c20322f5ed72506d4ea1"
  },
  "kernelspec": {
   "display_name": "Python 3.9.7 ('base')",
   "language": "python",
   "name": "python3"
  },
  "language_info": {
   "codemirror_mode": {
    "name": "ipython",
    "version": 3
   },
   "file_extension": ".py",
   "mimetype": "text/x-python",
   "name": "python",
   "nbconvert_exporter": "python",
   "pygments_lexer": "ipython3",
   "version": "3.9.7"
  },
  "orig_nbformat": 4
 },
 "nbformat": 4,
 "nbformat_minor": 2
}
